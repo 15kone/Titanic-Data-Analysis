{
 "cells": [
  {
   "cell_type": "markdown",
   "id": "7fa9452aca42afc7",
   "metadata": {},
   "source": [
    "# Data analysis of the Kaggle Titanic Dataset"
   ]
  },
  {
   "cell_type": "code",
   "id": "21ff5b6488cc4216",
   "metadata": {
    "ExecuteTime": {
     "end_time": "2025-09-03T18:56:09.346125Z",
     "start_time": "2025-09-03T18:56:09.344068Z"
    }
   },
   "source": [
    "import pandas as pd\n",
    "import seaborn as sns\n",
    "import matplotlib.pyplot as plt"
   ],
   "outputs": [],
   "execution_count": 25
  },
  {
   "cell_type": "markdown",
   "id": "3bdc545c77d61111",
   "metadata": {},
   "source": [
    "### First, we need to load the dataset from our directory."
   ]
  },
  {
   "cell_type": "code",
   "id": "ece8add4bc296a3c",
   "metadata": {
    "ExecuteTime": {
     "end_time": "2025-09-03T18:56:09.394945Z",
     "start_time": "2025-09-03T18:56:09.390764Z"
    }
   },
   "source": [
    "df = pd.read_csv('data/train.csv')"
   ],
   "outputs": [],
   "execution_count": 26
  },
  {
   "cell_type": "markdown",
   "id": "d4ab2820cc9ee29",
   "metadata": {},
   "source": [
    "### Now that we have the data load it, let's get some basic info on it."
   ]
  },
  {
   "cell_type": "code",
   "id": "c6780b629ce621fd",
   "metadata": {
    "ExecuteTime": {
     "end_time": "2025-09-03T18:56:09.445849Z",
     "start_time": "2025-09-03T18:56:09.438421Z"
    }
   },
   "source": [
    "df.head()"
   ],
   "outputs": [
    {
     "data": {
      "text/plain": [
       "   PassengerId  Survived  Pclass  \\\n",
       "0            1         0       3   \n",
       "1            2         1       1   \n",
       "2            3         1       3   \n",
       "3            4         1       1   \n",
       "4            5         0       3   \n",
       "\n",
       "                                                Name     Sex   Age  SibSp  \\\n",
       "0                            Braund, Mr. Owen Harris    male  22.0      1   \n",
       "1  Cumings, Mrs. John Bradley (Florence Briggs Th...  female  38.0      1   \n",
       "2                             Heikkinen, Miss. Laina  female  26.0      0   \n",
       "3       Futrelle, Mrs. Jacques Heath (Lily May Peel)  female  35.0      1   \n",
       "4                           Allen, Mr. William Henry    male  35.0      0   \n",
       "\n",
       "   Parch            Ticket     Fare Cabin Embarked  \n",
       "0      0         A/5 21171   7.2500   NaN        S  \n",
       "1      0          PC 17599  71.2833   C85        C  \n",
       "2      0  STON/O2. 3101282   7.9250   NaN        S  \n",
       "3      0            113803  53.1000  C123        S  \n",
       "4      0            373450   8.0500   NaN        S  "
      ],
      "text/html": [
       "<div>\n",
       "<style scoped>\n",
       "    .dataframe tbody tr th:only-of-type {\n",
       "        vertical-align: middle;\n",
       "    }\n",
       "\n",
       "    .dataframe tbody tr th {\n",
       "        vertical-align: top;\n",
       "    }\n",
       "\n",
       "    .dataframe thead th {\n",
       "        text-align: right;\n",
       "    }\n",
       "</style>\n",
       "<table border=\"1\" class=\"dataframe\">\n",
       "  <thead>\n",
       "    <tr style=\"text-align: right;\">\n",
       "      <th></th>\n",
       "      <th>PassengerId</th>\n",
       "      <th>Survived</th>\n",
       "      <th>Pclass</th>\n",
       "      <th>Name</th>\n",
       "      <th>Sex</th>\n",
       "      <th>Age</th>\n",
       "      <th>SibSp</th>\n",
       "      <th>Parch</th>\n",
       "      <th>Ticket</th>\n",
       "      <th>Fare</th>\n",
       "      <th>Cabin</th>\n",
       "      <th>Embarked</th>\n",
       "    </tr>\n",
       "  </thead>\n",
       "  <tbody>\n",
       "    <tr>\n",
       "      <th>0</th>\n",
       "      <td>1</td>\n",
       "      <td>0</td>\n",
       "      <td>3</td>\n",
       "      <td>Braund, Mr. Owen Harris</td>\n",
       "      <td>male</td>\n",
       "      <td>22.0</td>\n",
       "      <td>1</td>\n",
       "      <td>0</td>\n",
       "      <td>A/5 21171</td>\n",
       "      <td>7.2500</td>\n",
       "      <td>NaN</td>\n",
       "      <td>S</td>\n",
       "    </tr>\n",
       "    <tr>\n",
       "      <th>1</th>\n",
       "      <td>2</td>\n",
       "      <td>1</td>\n",
       "      <td>1</td>\n",
       "      <td>Cumings, Mrs. John Bradley (Florence Briggs Th...</td>\n",
       "      <td>female</td>\n",
       "      <td>38.0</td>\n",
       "      <td>1</td>\n",
       "      <td>0</td>\n",
       "      <td>PC 17599</td>\n",
       "      <td>71.2833</td>\n",
       "      <td>C85</td>\n",
       "      <td>C</td>\n",
       "    </tr>\n",
       "    <tr>\n",
       "      <th>2</th>\n",
       "      <td>3</td>\n",
       "      <td>1</td>\n",
       "      <td>3</td>\n",
       "      <td>Heikkinen, Miss. Laina</td>\n",
       "      <td>female</td>\n",
       "      <td>26.0</td>\n",
       "      <td>0</td>\n",
       "      <td>0</td>\n",
       "      <td>STON/O2. 3101282</td>\n",
       "      <td>7.9250</td>\n",
       "      <td>NaN</td>\n",
       "      <td>S</td>\n",
       "    </tr>\n",
       "    <tr>\n",
       "      <th>3</th>\n",
       "      <td>4</td>\n",
       "      <td>1</td>\n",
       "      <td>1</td>\n",
       "      <td>Futrelle, Mrs. Jacques Heath (Lily May Peel)</td>\n",
       "      <td>female</td>\n",
       "      <td>35.0</td>\n",
       "      <td>1</td>\n",
       "      <td>0</td>\n",
       "      <td>113803</td>\n",
       "      <td>53.1000</td>\n",
       "      <td>C123</td>\n",
       "      <td>S</td>\n",
       "    </tr>\n",
       "    <tr>\n",
       "      <th>4</th>\n",
       "      <td>5</td>\n",
       "      <td>0</td>\n",
       "      <td>3</td>\n",
       "      <td>Allen, Mr. William Henry</td>\n",
       "      <td>male</td>\n",
       "      <td>35.0</td>\n",
       "      <td>0</td>\n",
       "      <td>0</td>\n",
       "      <td>373450</td>\n",
       "      <td>8.0500</td>\n",
       "      <td>NaN</td>\n",
       "      <td>S</td>\n",
       "    </tr>\n",
       "  </tbody>\n",
       "</table>\n",
       "</div>"
      ]
     },
     "execution_count": 27,
     "metadata": {},
     "output_type": "execute_result"
    }
   ],
   "execution_count": 27
  },
  {
   "cell_type": "code",
   "id": "64e5f9f3dde5a126",
   "metadata": {
    "ExecuteTime": {
     "end_time": "2025-09-03T18:56:09.498827Z",
     "start_time": "2025-09-03T18:56:09.492920Z"
    }
   },
   "source": [
    "df.info()"
   ],
   "outputs": [
    {
     "name": "stdout",
     "output_type": "stream",
     "text": [
      "<class 'pandas.core.frame.DataFrame'>\n",
      "RangeIndex: 891 entries, 0 to 890\n",
      "Data columns (total 12 columns):\n",
      " #   Column       Non-Null Count  Dtype  \n",
      "---  ------       --------------  -----  \n",
      " 0   PassengerId  891 non-null    int64  \n",
      " 1   Survived     891 non-null    int64  \n",
      " 2   Pclass       891 non-null    int64  \n",
      " 3   Name         891 non-null    object \n",
      " 4   Sex          891 non-null    object \n",
      " 5   Age          714 non-null    float64\n",
      " 6   SibSp        891 non-null    int64  \n",
      " 7   Parch        891 non-null    int64  \n",
      " 8   Ticket       891 non-null    object \n",
      " 9   Fare         891 non-null    float64\n",
      " 10  Cabin        204 non-null    object \n",
      " 11  Embarked     889 non-null    object \n",
      "dtypes: float64(2), int64(5), object(5)\n",
      "memory usage: 83.7+ KB\n"
     ]
    }
   ],
   "execution_count": 28
  },
  {
   "cell_type": "code",
   "id": "2a692f6649ddb8c2",
   "metadata": {
    "ExecuteTime": {
     "end_time": "2025-09-03T18:56:09.558534Z",
     "start_time": "2025-09-03T18:56:09.544931Z"
    }
   },
   "source": "df.describe()",
   "outputs": [
    {
     "data": {
      "text/plain": [
       "       PassengerId    Survived      Pclass         Age       SibSp  \\\n",
       "count   891.000000  891.000000  891.000000  714.000000  891.000000   \n",
       "mean    446.000000    0.383838    2.308642   29.699118    0.523008   \n",
       "std     257.353842    0.486592    0.836071   14.526497    1.102743   \n",
       "min       1.000000    0.000000    1.000000    0.420000    0.000000   \n",
       "25%     223.500000    0.000000    2.000000   20.125000    0.000000   \n",
       "50%     446.000000    0.000000    3.000000   28.000000    0.000000   \n",
       "75%     668.500000    1.000000    3.000000   38.000000    1.000000   \n",
       "max     891.000000    1.000000    3.000000   80.000000    8.000000   \n",
       "\n",
       "            Parch        Fare  \n",
       "count  891.000000  891.000000  \n",
       "mean     0.381594   32.204208  \n",
       "std      0.806057   49.693429  \n",
       "min      0.000000    0.000000  \n",
       "25%      0.000000    7.910400  \n",
       "50%      0.000000   14.454200  \n",
       "75%      0.000000   31.000000  \n",
       "max      6.000000  512.329200  "
      ],
      "text/html": [
       "<div>\n",
       "<style scoped>\n",
       "    .dataframe tbody tr th:only-of-type {\n",
       "        vertical-align: middle;\n",
       "    }\n",
       "\n",
       "    .dataframe tbody tr th {\n",
       "        vertical-align: top;\n",
       "    }\n",
       "\n",
       "    .dataframe thead th {\n",
       "        text-align: right;\n",
       "    }\n",
       "</style>\n",
       "<table border=\"1\" class=\"dataframe\">\n",
       "  <thead>\n",
       "    <tr style=\"text-align: right;\">\n",
       "      <th></th>\n",
       "      <th>PassengerId</th>\n",
       "      <th>Survived</th>\n",
       "      <th>Pclass</th>\n",
       "      <th>Age</th>\n",
       "      <th>SibSp</th>\n",
       "      <th>Parch</th>\n",
       "      <th>Fare</th>\n",
       "    </tr>\n",
       "  </thead>\n",
       "  <tbody>\n",
       "    <tr>\n",
       "      <th>count</th>\n",
       "      <td>891.000000</td>\n",
       "      <td>891.000000</td>\n",
       "      <td>891.000000</td>\n",
       "      <td>714.000000</td>\n",
       "      <td>891.000000</td>\n",
       "      <td>891.000000</td>\n",
       "      <td>891.000000</td>\n",
       "    </tr>\n",
       "    <tr>\n",
       "      <th>mean</th>\n",
       "      <td>446.000000</td>\n",
       "      <td>0.383838</td>\n",
       "      <td>2.308642</td>\n",
       "      <td>29.699118</td>\n",
       "      <td>0.523008</td>\n",
       "      <td>0.381594</td>\n",
       "      <td>32.204208</td>\n",
       "    </tr>\n",
       "    <tr>\n",
       "      <th>std</th>\n",
       "      <td>257.353842</td>\n",
       "      <td>0.486592</td>\n",
       "      <td>0.836071</td>\n",
       "      <td>14.526497</td>\n",
       "      <td>1.102743</td>\n",
       "      <td>0.806057</td>\n",
       "      <td>49.693429</td>\n",
       "    </tr>\n",
       "    <tr>\n",
       "      <th>min</th>\n",
       "      <td>1.000000</td>\n",
       "      <td>0.000000</td>\n",
       "      <td>1.000000</td>\n",
       "      <td>0.420000</td>\n",
       "      <td>0.000000</td>\n",
       "      <td>0.000000</td>\n",
       "      <td>0.000000</td>\n",
       "    </tr>\n",
       "    <tr>\n",
       "      <th>25%</th>\n",
       "      <td>223.500000</td>\n",
       "      <td>0.000000</td>\n",
       "      <td>2.000000</td>\n",
       "      <td>20.125000</td>\n",
       "      <td>0.000000</td>\n",
       "      <td>0.000000</td>\n",
       "      <td>7.910400</td>\n",
       "    </tr>\n",
       "    <tr>\n",
       "      <th>50%</th>\n",
       "      <td>446.000000</td>\n",
       "      <td>0.000000</td>\n",
       "      <td>3.000000</td>\n",
       "      <td>28.000000</td>\n",
       "      <td>0.000000</td>\n",
       "      <td>0.000000</td>\n",
       "      <td>14.454200</td>\n",
       "    </tr>\n",
       "    <tr>\n",
       "      <th>75%</th>\n",
       "      <td>668.500000</td>\n",
       "      <td>1.000000</td>\n",
       "      <td>3.000000</td>\n",
       "      <td>38.000000</td>\n",
       "      <td>1.000000</td>\n",
       "      <td>0.000000</td>\n",
       "      <td>31.000000</td>\n",
       "    </tr>\n",
       "    <tr>\n",
       "      <th>max</th>\n",
       "      <td>891.000000</td>\n",
       "      <td>1.000000</td>\n",
       "      <td>3.000000</td>\n",
       "      <td>80.000000</td>\n",
       "      <td>8.000000</td>\n",
       "      <td>6.000000</td>\n",
       "      <td>512.329200</td>\n",
       "    </tr>\n",
       "  </tbody>\n",
       "</table>\n",
       "</div>"
      ]
     },
     "execution_count": 29,
     "metadata": {},
     "output_type": "execute_result"
    }
   ],
   "execution_count": 29
  },
  {
   "metadata": {},
   "cell_type": "markdown",
   "source": [
    "- df.head() displays the first few rows of the dataset, giving an overview of its structure.\n",
    "- df.info() provides a summary of the data, including each column's data type, and the value of non-null values\n",
    "- df.describe() gives us useful statistics for numerical columns\n",
    "- df.isnull().sum() shows the number of missing values for each column"
   ],
   "id": "d073a1cd7a3c6f1c"
  },
  {
   "metadata": {
    "ExecuteTime": {
     "end_time": "2025-09-03T18:56:09.599805Z",
     "start_time": "2025-09-03T18:56:09.596125Z"
    }
   },
   "cell_type": "code",
   "source": "df.isnull().sum()",
   "id": "b2ac6b7ca3e9b059",
   "outputs": [
    {
     "data": {
      "text/plain": [
       "PassengerId      0\n",
       "Survived         0\n",
       "Pclass           0\n",
       "Name             0\n",
       "Sex              0\n",
       "Age            177\n",
       "SibSp            0\n",
       "Parch            0\n",
       "Ticket           0\n",
       "Fare             0\n",
       "Cabin          687\n",
       "Embarked         2\n",
       "dtype: int64"
      ]
     },
     "execution_count": 30,
     "metadata": {},
     "output_type": "execute_result"
    }
   ],
   "execution_count": 30
  },
  {
   "cell_type": "markdown",
   "id": "be0fee90037cf9a1",
   "metadata": {},
   "source": [
    "### We can see that we are missing the ages of 177 passengers, 687 cabin numbers, which is a majority, and two passengers' embark ports."
   ]
  },
  {
   "cell_type": "code",
   "id": "c5b3ef77ef1f0ca3",
   "metadata": {
    "ExecuteTime": {
     "end_time": "2025-09-03T18:56:09.649710Z",
     "start_time": "2025-09-03T18:56:09.645269Z"
    }
   },
   "source": [
    "df['Age'] = df['Age'].fillna(df['Age'].median())\n",
    "df.dropna(subset=['Embarked'], inplace=True)"
   ],
   "outputs": [],
   "execution_count": 31
  },
  {
   "cell_type": "markdown",
   "id": "654afd7510ee2561",
   "metadata": {},
   "source": [
    "### For simplicity, I will be dropping the Embarked column as it most likely has nothing to do with the survival rate.\n",
    "### also going to be filling the age with the median, for data consistency."
   ]
  },
  {
   "cell_type": "markdown",
   "id": "b423ab34d58a3e6b",
   "metadata": {},
   "source": [
    "---"
   ]
  },
  {
   "cell_type": "markdown",
   "id": "b890d199efa6d7df",
   "metadata": {},
   "source": [
    "### First, let's see the class distribution of passengers."
   ]
  },
  {
   "cell_type": "code",
   "id": "ef76a6b9c19f9b12",
   "metadata": {
    "ExecuteTime": {
     "end_time": "2025-09-03T18:56:09.768892Z",
     "start_time": "2025-09-03T18:56:09.694280Z"
    }
   },
   "source": [
    "sns.countplot(x='Pclass', data=df)\n",
    "plt.title('Passenger Distribution by class')\n",
    "plt.ylabel('Passenger Count')\n",
    "plt.xlabel('Passenger Class')\n",
    "plt.show()"
   ],
   "outputs": [
    {
     "data": {
      "text/plain": [
       "<Figure size 640x480 with 1 Axes>"
      ],
      "image/png": "[encoded data removed]"
     },
     "metadata": {},
     "output_type": "display_data",
     "jetTransient": {
      "display_id": null
     }
    }
   ],
   "execution_count": 32
  },
  {
   "metadata": {},
   "cell_type": "markdown",
   "source": [
    "- This plot shows the distribution of passengers across different classes.\n",
    "- The x-axis represents the passenger class\n",
    "- The y-axis represents the number of passengers\n",
    "- From this graph we can see that the majority of the passengers were in the 3rd class."
   ],
   "id": "753572e61b57b580"
  },
  {
   "cell_type": "markdown",
   "id": "dc8ea20bb53b3813",
   "metadata": {},
   "source": [
    "---"
   ]
  },
  {
   "cell_type": "markdown",
   "id": "e9709946cc825d86",
   "metadata": {
    "ExecuteTime": {
     "end_time": "2025-09-03T17:29:47.962877Z",
     "start_time": "2025-09-03T17:29:47.961135Z"
    }
   },
   "source": "### Let's visualize the survival rate based on the passenger class"
  },
  {
   "cell_type": "code",
   "id": "44bbdaf7b46d6b4c",
   "metadata": {
    "ExecuteTime": {
     "end_time": "2025-09-03T18:56:09.867567Z",
     "start_time": "2025-09-03T18:56:09.775673Z"
    }
   },
   "source": [
    "survival_by_class = df.groupby('Pclass')['Survived'].mean()\n",
    "sns.barplot(x=survival_by_class.index, y=survival_by_class.values)\n",
    "plt.title('Survival Rates by Passenger Class')\n",
    "plt.xlabel('Passenger Class')\n",
    "plt.ylabel('Survival Rate')"
   ],
   "outputs": [
    {
     "data": {
      "text/plain": [
       "Text(0, 0.5, 'Survival Rate')"
      ]
     },
     "execution_count": 33,
     "metadata": {},
     "output_type": "execute_result"
    },
    {
     "data": {
      "text/plain": [
       "<Figure size 640x480 with 1 Axes>"
      ],
      "image/png": "[encoded data removed]"
     },
     "metadata": {},
     "output_type": "display_data",
     "jetTransient": {
      "display_id": null
     }
    }
   ],
   "execution_count": 33
  },
  {
   "metadata": {},
   "cell_type": "markdown",
   "source": [
    "- This bar plot shows the average survival rate of passengers based on their passenger class\n",
    "- The x-axis represents the passenger Class (1st, 2nd, 3rd)\n",
    "- The y-axis represents the Survival Rate\n",
    "- We can see that:\n",
    "    - Passengers in the 1st class had a higher rate than those in the classes below them.\n",
    "    - Passengers in the 3rd class had the lowest survival rate."
   ],
   "id": "a22cc6cc8038f0ca"
  },
  {
   "cell_type": "markdown",
   "id": "73865cb06f4fd1df",
   "metadata": {},
   "source": [
    "---"
   ]
  },
  {
   "cell_type": "markdown",
   "id": "8240262abe4b0084",
   "metadata": {},
   "source": [
    "### Now let's see the survival rate based on gender."
   ]
  },
  {
   "cell_type": "code",
   "id": "c7655c0705198ba0",
   "metadata": {
    "ExecuteTime": {
     "end_time": "2025-09-03T18:56:09.963291Z",
     "start_time": "2025-09-03T18:56:09.872849Z"
    }
   },
   "source": [
    "survival_by_gender = df.groupby('Sex')['Survived'].mean()\n",
    "sns.barplot(x=survival_by_gender.index, y=survival_by_gender.values)\n",
    "plt.title('Survival Rates by Gender')"
   ],
   "outputs": [
    {
     "data": {
      "text/plain": [
       "Text(0.5, 1.0, 'Survival Rates by Gender')"
      ]
     },
     "execution_count": 34,
     "metadata": {},
     "output_type": "execute_result"
    },
    {
     "data": {
      "text/plain": [
       "<Figure size 640x480 with 1 Axes>"
      ],
      "image/png": "[encoded data removed]"
     },
     "metadata": {},
     "output_type": "display_data",
     "jetTransient": {
      "display_id": null
     }
    }
   ],
   "execution_count": 34
  },
  {
   "metadata": {},
   "cell_type": "markdown",
   "source": [
    "- This bar plot shows the average survival rate based on the gender of the passenger.\n",
    "- The x-axis represents the Sex/Gender\n",
    "- The y-axis represents the Survival Rate.\n",
    "- We can see that female passengers had a much higher survival rate, most likely because of the rule \"Women and children first!\""
   ],
   "id": "7ecfeef4cb7a0faa"
  },
  {
   "cell_type": "markdown",
   "id": "c971554804a2e048",
   "metadata": {},
   "source": [
    "---"
   ]
  },
  {
   "cell_type": "markdown",
   "id": "1211cbc9e52fa70a",
   "metadata": {},
   "source": "### Visualization of the distribution of embarkment points."
  },
  {
   "cell_type": "code",
   "id": "323c2f2ad2cdfb63",
   "metadata": {
    "ExecuteTime": {
     "end_time": "2025-09-03T18:56:10.060789Z",
     "start_time": "2025-09-03T18:56:09.968649Z"
    }
   },
   "source": [
    "embarked_counts = df['Embarked'].value_counts()\n",
    "sns.countplot(x='Embarked', data=df)\n",
    "plt.title('Embarked Distribution')"
   ],
   "outputs": [
    {
     "data": {
      "text/plain": [
       "Text(0.5, 1.0, 'Embarked Distribution')"
      ]
     },
     "execution_count": 35,
     "metadata": {},
     "output_type": "execute_result"
    },
    {
     "data": {
      "text/plain": [
       "<Figure size 640x480 with 1 Axes>"
      ],
      "image/png": "[encoded data removed]"
     },
     "metadata": {},
     "output_type": "display_data",
     "jetTransient": {
      "display_id": null
     }
    }
   ],
   "execution_count": 35
  },
  {
   "cell_type": "markdown",
   "id": "586f1b9f2d9c7f09",
   "metadata": {},
   "source": [
    "- Distribution of embarkation points (Southampton, Cherbourg and Queenstown)\n",
    "- We can see that approx. 70% of the passengers embarked in Southampton, and the rest are divided by Cherbourg and Queenstown."
   ]
  },
  {
   "cell_type": "markdown",
   "id": "4e0fb48064813294",
   "metadata": {},
   "source": [
    "---"
   ]
  },
  {
   "cell_type": "markdown",
   "id": "befacf2297e504d0",
   "metadata": {},
   "source": [
    "### Let's look at the distribution of fare prices to wrap this up."
   ]
  },
  {
   "cell_type": "code",
   "id": "2b0ea7fab79bdbae",
   "metadata": {
    "ExecuteTime": {
     "end_time": "2025-09-03T18:56:10.188076Z",
     "start_time": "2025-09-03T18:56:10.066557Z"
    }
   },
   "source": [
    "df['Fare'].hist(bins=30, color = 'blue')\n",
    "plt.title('Distribution of Fare Prices')\n",
    "plt.xlabel('Fare Price')\n",
    "plt.ylabel('Passenger Count')"
   ],
   "outputs": [
    {
     "data": {
      "text/plain": [
       "Text(0, 0.5, 'Passenger Count')"
      ]
     },
     "execution_count": 36,
     "metadata": {},
     "output_type": "execute_result"
    },
    {
     "data": {
      "text/plain": [
       "<Figure size 640x480 with 1 Axes>"
      ],
      "image/png": "[encoded data removed]"
     },
     "metadata": {},
     "output_type": "display_data",
     "jetTransient": {
      "display_id": null
     }
    }
   ],
   "execution_count": 36
  },
  {
   "metadata": {},
   "cell_type": "markdown",
   "source": [
    "- This histogram shows the Fare Price distribution amongst passengers.\n",
    "- The x-axis is the Fare Price.\n",
    "- The y-axis is the number of passengers who paid each fare price.\n",
    "- Notable observations:\n",
    "    - Most fares were between \\\\$0 and \\\\$50\n",
    "    - Only a small number of passengers paid fares over $50"
   ],
   "id": "f4098fc0ecec7987"
  }
 ],
 "metadata": {
  "kernelspec": {
   "display_name": "Python 3 (ipykernel)",
   "language": "python",
   "name": "python3"
  },
  "language_info": {
   "codemirror_mode": {
    "name": "ipython",
    "version": 3
   },
   "file_extension": ".py",
   "mimetype": "text/x-python",
   "name": "python",
   "nbconvert_exporter": "python",
   "pygments_lexer": "ipython3",
   "version": "3.13.5"
  }
 },
 "nbformat": 4,
 "nbformat_minor": 5
}
